{
  "nbformat": 4,
  "nbformat_minor": 0,
  "metadata": {
    "colab": {
      "provenance": [],
      "authorship_tag": "ABX9TyNX7TbGTzND62/kypj8Dh6G",
      "include_colab_link": true
    },
    "kernelspec": {
      "name": "python3",
      "display_name": "Python 3"
    },
    "language_info": {
      "name": "python"
    },
    "widgets": {
      "application/vnd.jupyter.widget-state+json": {
        "0d9af1c1053c432eb022f2ba61549ac9": {
          "model_module": "@jupyter-widgets/controls",
          "model_name": "HBoxModel",
          "model_module_version": "1.5.0",
          "state": {
            "_dom_classes": [],
            "_model_module": "@jupyter-widgets/controls",
            "_model_module_version": "1.5.0",
            "_model_name": "HBoxModel",
            "_view_count": null,
            "_view_module": "@jupyter-widgets/controls",
            "_view_module_version": "1.5.0",
            "_view_name": "HBoxView",
            "box_style": "",
            "children": [
              "IPY_MODEL_7edc7f83e1ce40319da6bf944cbc7094",
              "IPY_MODEL_a92efeca601c46edb01443c1cd75dc07",
              "IPY_MODEL_d7dc03303c5f4d25a1379c0e02880a64"
            ],
            "layout": "IPY_MODEL_ff94980df81c4c5687a1cfe4de8c96b1"
          }
        },
        "7edc7f83e1ce40319da6bf944cbc7094": {
          "model_module": "@jupyter-widgets/controls",
          "model_name": "HTMLModel",
          "model_module_version": "1.5.0",
          "state": {
            "_dom_classes": [],
            "_model_module": "@jupyter-widgets/controls",
            "_model_module_version": "1.5.0",
            "_model_name": "HTMLModel",
            "_view_count": null,
            "_view_module": "@jupyter-widgets/controls",
            "_view_module_version": "1.5.0",
            "_view_name": "HTMLView",
            "description": "",
            "description_tooltip": null,
            "layout": "IPY_MODEL_141f567785844d0fa79e4f51635c816c",
            "placeholder": "​",
            "style": "IPY_MODEL_70f64ebe413f460e9f13457486120efd",
            "value": "100%"
          }
        },
        "a92efeca601c46edb01443c1cd75dc07": {
          "model_module": "@jupyter-widgets/controls",
          "model_name": "FloatProgressModel",
          "model_module_version": "1.5.0",
          "state": {
            "_dom_classes": [],
            "_model_module": "@jupyter-widgets/controls",
            "_model_module_version": "1.5.0",
            "_model_name": "FloatProgressModel",
            "_view_count": null,
            "_view_module": "@jupyter-widgets/controls",
            "_view_module_version": "1.5.0",
            "_view_name": "ProgressView",
            "bar_style": "success",
            "description": "",
            "description_tooltip": null,
            "layout": "IPY_MODEL_0f1cc1b28dd0428ab3f4a10b4bcc8612",
            "max": 20800,
            "min": 0,
            "orientation": "horizontal",
            "style": "IPY_MODEL_766f1d74959349d1b25bb336ce5ef408",
            "value": 20800
          }
        },
        "d7dc03303c5f4d25a1379c0e02880a64": {
          "model_module": "@jupyter-widgets/controls",
          "model_name": "HTMLModel",
          "model_module_version": "1.5.0",
          "state": {
            "_dom_classes": [],
            "_model_module": "@jupyter-widgets/controls",
            "_model_module_version": "1.5.0",
            "_model_name": "HTMLModel",
            "_view_count": null,
            "_view_module": "@jupyter-widgets/controls",
            "_view_module_version": "1.5.0",
            "_view_name": "HTMLView",
            "description": "",
            "description_tooltip": null,
            "layout": "IPY_MODEL_08fb8af54d3942898c219482f905558c",
            "placeholder": "​",
            "style": "IPY_MODEL_9a56768a7b28471ba4e02958978e5c97",
            "value": " 20800/20800 [02:37&lt;00:00, 160.63it/s]"
          }
        },
        "ff94980df81c4c5687a1cfe4de8c96b1": {
          "model_module": "@jupyter-widgets/base",
          "model_name": "LayoutModel",
          "model_module_version": "1.2.0",
          "state": {
            "_model_module": "@jupyter-widgets/base",
            "_model_module_version": "1.2.0",
            "_model_name": "LayoutModel",
            "_view_count": null,
            "_view_module": "@jupyter-widgets/base",
            "_view_module_version": "1.2.0",
            "_view_name": "LayoutView",
            "align_content": null,
            "align_items": null,
            "align_self": null,
            "border": null,
            "bottom": null,
            "display": null,
            "flex": null,
            "flex_flow": null,
            "grid_area": null,
            "grid_auto_columns": null,
            "grid_auto_flow": null,
            "grid_auto_rows": null,
            "grid_column": null,
            "grid_gap": null,
            "grid_row": null,
            "grid_template_areas": null,
            "grid_template_columns": null,
            "grid_template_rows": null,
            "height": null,
            "justify_content": null,
            "justify_items": null,
            "left": null,
            "margin": null,
            "max_height": null,
            "max_width": null,
            "min_height": null,
            "min_width": null,
            "object_fit": null,
            "object_position": null,
            "order": null,
            "overflow": null,
            "overflow_x": null,
            "overflow_y": null,
            "padding": null,
            "right": null,
            "top": null,
            "visibility": null,
            "width": null
          }
        },
        "141f567785844d0fa79e4f51635c816c": {
          "model_module": "@jupyter-widgets/base",
          "model_name": "LayoutModel",
          "model_module_version": "1.2.0",
          "state": {
            "_model_module": "@jupyter-widgets/base",
            "_model_module_version": "1.2.0",
            "_model_name": "LayoutModel",
            "_view_count": null,
            "_view_module": "@jupyter-widgets/base",
            "_view_module_version": "1.2.0",
            "_view_name": "LayoutView",
            "align_content": null,
            "align_items": null,
            "align_self": null,
            "border": null,
            "bottom": null,
            "display": null,
            "flex": null,
            "flex_flow": null,
            "grid_area": null,
            "grid_auto_columns": null,
            "grid_auto_flow": null,
            "grid_auto_rows": null,
            "grid_column": null,
            "grid_gap": null,
            "grid_row": null,
            "grid_template_areas": null,
            "grid_template_columns": null,
            "grid_template_rows": null,
            "height": null,
            "justify_content": null,
            "justify_items": null,
            "left": null,
            "margin": null,
            "max_height": null,
            "max_width": null,
            "min_height": null,
            "min_width": null,
            "object_fit": null,
            "object_position": null,
            "order": null,
            "overflow": null,
            "overflow_x": null,
            "overflow_y": null,
            "padding": null,
            "right": null,
            "top": null,
            "visibility": null,
            "width": null
          }
        },
        "70f64ebe413f460e9f13457486120efd": {
          "model_module": "@jupyter-widgets/controls",
          "model_name": "DescriptionStyleModel",
          "model_module_version": "1.5.0",
          "state": {
            "_model_module": "@jupyter-widgets/controls",
            "_model_module_version": "1.5.0",
            "_model_name": "DescriptionStyleModel",
            "_view_count": null,
            "_view_module": "@jupyter-widgets/base",
            "_view_module_version": "1.2.0",
            "_view_name": "StyleView",
            "description_width": ""
          }
        },
        "0f1cc1b28dd0428ab3f4a10b4bcc8612": {
          "model_module": "@jupyter-widgets/base",
          "model_name": "LayoutModel",
          "model_module_version": "1.2.0",
          "state": {
            "_model_module": "@jupyter-widgets/base",
            "_model_module_version": "1.2.0",
            "_model_name": "LayoutModel",
            "_view_count": null,
            "_view_module": "@jupyter-widgets/base",
            "_view_module_version": "1.2.0",
            "_view_name": "LayoutView",
            "align_content": null,
            "align_items": null,
            "align_self": null,
            "border": null,
            "bottom": null,
            "display": null,
            "flex": null,
            "flex_flow": null,
            "grid_area": null,
            "grid_auto_columns": null,
            "grid_auto_flow": null,
            "grid_auto_rows": null,
            "grid_column": null,
            "grid_gap": null,
            "grid_row": null,
            "grid_template_areas": null,
            "grid_template_columns": null,
            "grid_template_rows": null,
            "height": null,
            "justify_content": null,
            "justify_items": null,
            "left": null,
            "margin": null,
            "max_height": null,
            "max_width": null,
            "min_height": null,
            "min_width": null,
            "object_fit": null,
            "object_position": null,
            "order": null,
            "overflow": null,
            "overflow_x": null,
            "overflow_y": null,
            "padding": null,
            "right": null,
            "top": null,
            "visibility": null,
            "width": null
          }
        },
        "766f1d74959349d1b25bb336ce5ef408": {
          "model_module": "@jupyter-widgets/controls",
          "model_name": "ProgressStyleModel",
          "model_module_version": "1.5.0",
          "state": {
            "_model_module": "@jupyter-widgets/controls",
            "_model_module_version": "1.5.0",
            "_model_name": "ProgressStyleModel",
            "_view_count": null,
            "_view_module": "@jupyter-widgets/base",
            "_view_module_version": "1.2.0",
            "_view_name": "StyleView",
            "bar_color": null,
            "description_width": ""
          }
        },
        "08fb8af54d3942898c219482f905558c": {
          "model_module": "@jupyter-widgets/base",
          "model_name": "LayoutModel",
          "model_module_version": "1.2.0",
          "state": {
            "_model_module": "@jupyter-widgets/base",
            "_model_module_version": "1.2.0",
            "_model_name": "LayoutModel",
            "_view_count": null,
            "_view_module": "@jupyter-widgets/base",
            "_view_module_version": "1.2.0",
            "_view_name": "LayoutView",
            "align_content": null,
            "align_items": null,
            "align_self": null,
            "border": null,
            "bottom": null,
            "display": null,
            "flex": null,
            "flex_flow": null,
            "grid_area": null,
            "grid_auto_columns": null,
            "grid_auto_flow": null,
            "grid_auto_rows": null,
            "grid_column": null,
            "grid_gap": null,
            "grid_row": null,
            "grid_template_areas": null,
            "grid_template_columns": null,
            "grid_template_rows": null,
            "height": null,
            "justify_content": null,
            "justify_items": null,
            "left": null,
            "margin": null,
            "max_height": null,
            "max_width": null,
            "min_height": null,
            "min_width": null,
            "object_fit": null,
            "object_position": null,
            "order": null,
            "overflow": null,
            "overflow_x": null,
            "overflow_y": null,
            "padding": null,
            "right": null,
            "top": null,
            "visibility": null,
            "width": null
          }
        },
        "9a56768a7b28471ba4e02958978e5c97": {
          "model_module": "@jupyter-widgets/controls",
          "model_name": "DescriptionStyleModel",
          "model_module_version": "1.5.0",
          "state": {
            "_model_module": "@jupyter-widgets/controls",
            "_model_module_version": "1.5.0",
            "_model_name": "DescriptionStyleModel",
            "_view_count": null,
            "_view_module": "@jupyter-widgets/base",
            "_view_module_version": "1.2.0",
            "_view_name": "StyleView",
            "description_width": ""
          }
        },
        "18a24d33c244483b862b4939e44d948a": {
          "model_module": "@jupyter-widgets/controls",
          "model_name": "HBoxModel",
          "model_module_version": "1.5.0",
          "state": {
            "_dom_classes": [],
            "_model_module": "@jupyter-widgets/controls",
            "_model_module_version": "1.5.0",
            "_model_name": "HBoxModel",
            "_view_count": null,
            "_view_module": "@jupyter-widgets/controls",
            "_view_module_version": "1.5.0",
            "_view_name": "HBoxView",
            "box_style": "",
            "children": [
              "IPY_MODEL_8fdbe5b5925c49ab9e4a32f690a535ba",
              "IPY_MODEL_3c29b4f9032b431f97d1dc3c49886e51",
              "IPY_MODEL_3578da3c5136410f9ee99ea1018c0ad7"
            ],
            "layout": "IPY_MODEL_9c3681ab285648619837be754e903277"
          }
        },
        "8fdbe5b5925c49ab9e4a32f690a535ba": {
          "model_module": "@jupyter-widgets/controls",
          "model_name": "HTMLModel",
          "model_module_version": "1.5.0",
          "state": {
            "_dom_classes": [],
            "_model_module": "@jupyter-widgets/controls",
            "_model_module_version": "1.5.0",
            "_model_name": "HTMLModel",
            "_view_count": null,
            "_view_module": "@jupyter-widgets/controls",
            "_view_module_version": "1.5.0",
            "_view_name": "HTMLView",
            "description": "",
            "description_tooltip": null,
            "layout": "IPY_MODEL_316ca82c3e144e1e876bc55d3d24dbe7",
            "placeholder": "​",
            "style": "IPY_MODEL_9b1cfbe3f4da43ada1e5886e47a85cfb",
            "value": "100%"
          }
        },
        "3c29b4f9032b431f97d1dc3c49886e51": {
          "model_module": "@jupyter-widgets/controls",
          "model_name": "FloatProgressModel",
          "model_module_version": "1.5.0",
          "state": {
            "_dom_classes": [],
            "_model_module": "@jupyter-widgets/controls",
            "_model_module_version": "1.5.0",
            "_model_name": "FloatProgressModel",
            "_view_count": null,
            "_view_module": "@jupyter-widgets/controls",
            "_view_module_version": "1.5.0",
            "_view_name": "ProgressView",
            "bar_style": "success",
            "description": "",
            "description_tooltip": null,
            "layout": "IPY_MODEL_14342cf8b6f6460e90c8707831cdb91f",
            "max": 2,
            "min": 0,
            "orientation": "horizontal",
            "style": "IPY_MODEL_6d064c3403a04b8ea5c2619309f3bc16",
            "value": 2
          }
        },
        "3578da3c5136410f9ee99ea1018c0ad7": {
          "model_module": "@jupyter-widgets/controls",
          "model_name": "HTMLModel",
          "model_module_version": "1.5.0",
          "state": {
            "_dom_classes": [],
            "_model_module": "@jupyter-widgets/controls",
            "_model_module_version": "1.5.0",
            "_model_name": "HTMLModel",
            "_view_count": null,
            "_view_module": "@jupyter-widgets/controls",
            "_view_module_version": "1.5.0",
            "_view_name": "HTMLView",
            "description": "",
            "description_tooltip": null,
            "layout": "IPY_MODEL_3efe1f93a48149ea8f213d5bd50957a8",
            "placeholder": "​",
            "style": "IPY_MODEL_0b60346c37494c3f8a54555c77cbd069",
            "value": " 2/2 [00:43&lt;00:00, 20.45s/it]"
          }
        },
        "9c3681ab285648619837be754e903277": {
          "model_module": "@jupyter-widgets/base",
          "model_name": "LayoutModel",
          "model_module_version": "1.2.0",
          "state": {
            "_model_module": "@jupyter-widgets/base",
            "_model_module_version": "1.2.0",
            "_model_name": "LayoutModel",
            "_view_count": null,
            "_view_module": "@jupyter-widgets/base",
            "_view_module_version": "1.2.0",
            "_view_name": "LayoutView",
            "align_content": null,
            "align_items": null,
            "align_self": null,
            "border": null,
            "bottom": null,
            "display": null,
            "flex": null,
            "flex_flow": null,
            "grid_area": null,
            "grid_auto_columns": null,
            "grid_auto_flow": null,
            "grid_auto_rows": null,
            "grid_column": null,
            "grid_gap": null,
            "grid_row": null,
            "grid_template_areas": null,
            "grid_template_columns": null,
            "grid_template_rows": null,
            "height": null,
            "justify_content": null,
            "justify_items": null,
            "left": null,
            "margin": null,
            "max_height": null,
            "max_width": null,
            "min_height": null,
            "min_width": null,
            "object_fit": null,
            "object_position": null,
            "order": null,
            "overflow": null,
            "overflow_x": null,
            "overflow_y": null,
            "padding": null,
            "right": null,
            "top": null,
            "visibility": null,
            "width": null
          }
        },
        "316ca82c3e144e1e876bc55d3d24dbe7": {
          "model_module": "@jupyter-widgets/base",
          "model_name": "LayoutModel",
          "model_module_version": "1.2.0",
          "state": {
            "_model_module": "@jupyter-widgets/base",
            "_model_module_version": "1.2.0",
            "_model_name": "LayoutModel",
            "_view_count": null,
            "_view_module": "@jupyter-widgets/base",
            "_view_module_version": "1.2.0",
            "_view_name": "LayoutView",
            "align_content": null,
            "align_items": null,
            "align_self": null,
            "border": null,
            "bottom": null,
            "display": null,
            "flex": null,
            "flex_flow": null,
            "grid_area": null,
            "grid_auto_columns": null,
            "grid_auto_flow": null,
            "grid_auto_rows": null,
            "grid_column": null,
            "grid_gap": null,
            "grid_row": null,
            "grid_template_areas": null,
            "grid_template_columns": null,
            "grid_template_rows": null,
            "height": null,
            "justify_content": null,
            "justify_items": null,
            "left": null,
            "margin": null,
            "max_height": null,
            "max_width": null,
            "min_height": null,
            "min_width": null,
            "object_fit": null,
            "object_position": null,
            "order": null,
            "overflow": null,
            "overflow_x": null,
            "overflow_y": null,
            "padding": null,
            "right": null,
            "top": null,
            "visibility": null,
            "width": null
          }
        },
        "9b1cfbe3f4da43ada1e5886e47a85cfb": {
          "model_module": "@jupyter-widgets/controls",
          "model_name": "DescriptionStyleModel",
          "model_module_version": "1.5.0",
          "state": {
            "_model_module": "@jupyter-widgets/controls",
            "_model_module_version": "1.5.0",
            "_model_name": "DescriptionStyleModel",
            "_view_count": null,
            "_view_module": "@jupyter-widgets/base",
            "_view_module_version": "1.2.0",
            "_view_name": "StyleView",
            "description_width": ""
          }
        },
        "14342cf8b6f6460e90c8707831cdb91f": {
          "model_module": "@jupyter-widgets/base",
          "model_name": "LayoutModel",
          "model_module_version": "1.2.0",
          "state": {
            "_model_module": "@jupyter-widgets/base",
            "_model_module_version": "1.2.0",
            "_model_name": "LayoutModel",
            "_view_count": null,
            "_view_module": "@jupyter-widgets/base",
            "_view_module_version": "1.2.0",
            "_view_name": "LayoutView",
            "align_content": null,
            "align_items": null,
            "align_self": null,
            "border": null,
            "bottom": null,
            "display": null,
            "flex": null,
            "flex_flow": null,
            "grid_area": null,
            "grid_auto_columns": null,
            "grid_auto_flow": null,
            "grid_auto_rows": null,
            "grid_column": null,
            "grid_gap": null,
            "grid_row": null,
            "grid_template_areas": null,
            "grid_template_columns": null,
            "grid_template_rows": null,
            "height": null,
            "justify_content": null,
            "justify_items": null,
            "left": null,
            "margin": null,
            "max_height": null,
            "max_width": null,
            "min_height": null,
            "min_width": null,
            "object_fit": null,
            "object_position": null,
            "order": null,
            "overflow": null,
            "overflow_x": null,
            "overflow_y": null,
            "padding": null,
            "right": null,
            "top": null,
            "visibility": null,
            "width": null
          }
        },
        "6d064c3403a04b8ea5c2619309f3bc16": {
          "model_module": "@jupyter-widgets/controls",
          "model_name": "ProgressStyleModel",
          "model_module_version": "1.5.0",
          "state": {
            "_model_module": "@jupyter-widgets/controls",
            "_model_module_version": "1.5.0",
            "_model_name": "ProgressStyleModel",
            "_view_count": null,
            "_view_module": "@jupyter-widgets/base",
            "_view_module_version": "1.2.0",
            "_view_name": "StyleView",
            "bar_color": null,
            "description_width": ""
          }
        },
        "3efe1f93a48149ea8f213d5bd50957a8": {
          "model_module": "@jupyter-widgets/base",
          "model_name": "LayoutModel",
          "model_module_version": "1.2.0",
          "state": {
            "_model_module": "@jupyter-widgets/base",
            "_model_module_version": "1.2.0",
            "_model_name": "LayoutModel",
            "_view_count": null,
            "_view_module": "@jupyter-widgets/base",
            "_view_module_version": "1.2.0",
            "_view_name": "LayoutView",
            "align_content": null,
            "align_items": null,
            "align_self": null,
            "border": null,
            "bottom": null,
            "display": null,
            "flex": null,
            "flex_flow": null,
            "grid_area": null,
            "grid_auto_columns": null,
            "grid_auto_flow": null,
            "grid_auto_rows": null,
            "grid_column": null,
            "grid_gap": null,
            "grid_row": null,
            "grid_template_areas": null,
            "grid_template_columns": null,
            "grid_template_rows": null,
            "height": null,
            "justify_content": null,
            "justify_items": null,
            "left": null,
            "margin": null,
            "max_height": null,
            "max_width": null,
            "min_height": null,
            "min_width": null,
            "object_fit": null,
            "object_position": null,
            "order": null,
            "overflow": null,
            "overflow_x": null,
            "overflow_y": null,
            "padding": null,
            "right": null,
            "top": null,
            "visibility": null,
            "width": null
          }
        },
        "0b60346c37494c3f8a54555c77cbd069": {
          "model_module": "@jupyter-widgets/controls",
          "model_name": "DescriptionStyleModel",
          "model_module_version": "1.5.0",
          "state": {
            "_model_module": "@jupyter-widgets/controls",
            "_model_module_version": "1.5.0",
            "_model_name": "DescriptionStyleModel",
            "_view_count": null,
            "_view_module": "@jupyter-widgets/base",
            "_view_module_version": "1.2.0",
            "_view_name": "StyleView",
            "description_width": ""
          }
        },
        "48ce9213029b4724a671b9c1db5ca6e6": {
          "model_module": "@jupyter-widgets/controls",
          "model_name": "HBoxModel",
          "model_module_version": "1.5.0",
          "state": {
            "_dom_classes": [],
            "_model_module": "@jupyter-widgets/controls",
            "_model_module_version": "1.5.0",
            "_model_name": "HBoxModel",
            "_view_count": null,
            "_view_module": "@jupyter-widgets/controls",
            "_view_module_version": "1.5.0",
            "_view_name": "HBoxView",
            "box_style": "",
            "children": [
              "IPY_MODEL_24beb3421c0046ca9d4477fb5232793d",
              "IPY_MODEL_f2a47f5053c342d38869e5f54b5e3ac3",
              "IPY_MODEL_6658b6ab648a40b7b479c537251d3e80"
            ],
            "layout": "IPY_MODEL_ea41eb307a424478b24cfead39aaa2c5"
          }
        },
        "24beb3421c0046ca9d4477fb5232793d": {
          "model_module": "@jupyter-widgets/controls",
          "model_name": "HTMLModel",
          "model_module_version": "1.5.0",
          "state": {
            "_dom_classes": [],
            "_model_module": "@jupyter-widgets/controls",
            "_model_module_version": "1.5.0",
            "_model_name": "HTMLModel",
            "_view_count": null,
            "_view_module": "@jupyter-widgets/controls",
            "_view_module_version": "1.5.0",
            "_view_name": "HTMLView",
            "description": "",
            "description_tooltip": null,
            "layout": "IPY_MODEL_61ad822d2b3e41b09aa6c96154cce14b",
            "placeholder": "​",
            "style": "IPY_MODEL_a185166b8fac4af789f7cc00807a7be4",
            "value": "100%"
          }
        },
        "f2a47f5053c342d38869e5f54b5e3ac3": {
          "model_module": "@jupyter-widgets/controls",
          "model_name": "FloatProgressModel",
          "model_module_version": "1.5.0",
          "state": {
            "_dom_classes": [],
            "_model_module": "@jupyter-widgets/controls",
            "_model_module_version": "1.5.0",
            "_model_name": "FloatProgressModel",
            "_view_count": null,
            "_view_module": "@jupyter-widgets/controls",
            "_view_module_version": "1.5.0",
            "_view_name": "ProgressView",
            "bar_style": "success",
            "description": "",
            "description_tooltip": null,
            "layout": "IPY_MODEL_6efcff5eb6b448ada38ca98dd64f5bba",
            "max": 4,
            "min": 0,
            "orientation": "horizontal",
            "style": "IPY_MODEL_5a6007b426134df1865448f0c26937bb",
            "value": 4
          }
        },
        "6658b6ab648a40b7b479c537251d3e80": {
          "model_module": "@jupyter-widgets/controls",
          "model_name": "HTMLModel",
          "model_module_version": "1.5.0",
          "state": {
            "_dom_classes": [],
            "_model_module": "@jupyter-widgets/controls",
            "_model_module_version": "1.5.0",
            "_model_name": "HTMLModel",
            "_view_count": null,
            "_view_module": "@jupyter-widgets/controls",
            "_view_module_version": "1.5.0",
            "_view_name": "HTMLView",
            "description": "",
            "description_tooltip": null,
            "layout": "IPY_MODEL_682ddc2470c742109b9085d1b3a50a38",
            "placeholder": "​",
            "style": "IPY_MODEL_dfe7989d8c0f4e0eb2ef5a8dbdbd0ed6",
            "value": " 4/4 [03:23&lt;00:00, 52.54s/it]"
          }
        },
        "ea41eb307a424478b24cfead39aaa2c5": {
          "model_module": "@jupyter-widgets/base",
          "model_name": "LayoutModel",
          "model_module_version": "1.2.0",
          "state": {
            "_model_module": "@jupyter-widgets/base",
            "_model_module_version": "1.2.0",
            "_model_name": "LayoutModel",
            "_view_count": null,
            "_view_module": "@jupyter-widgets/base",
            "_view_module_version": "1.2.0",
            "_view_name": "LayoutView",
            "align_content": null,
            "align_items": null,
            "align_self": null,
            "border": null,
            "bottom": null,
            "display": null,
            "flex": null,
            "flex_flow": null,
            "grid_area": null,
            "grid_auto_columns": null,
            "grid_auto_flow": null,
            "grid_auto_rows": null,
            "grid_column": null,
            "grid_gap": null,
            "grid_row": null,
            "grid_template_areas": null,
            "grid_template_columns": null,
            "grid_template_rows": null,
            "height": null,
            "justify_content": null,
            "justify_items": null,
            "left": null,
            "margin": null,
            "max_height": null,
            "max_width": null,
            "min_height": null,
            "min_width": null,
            "object_fit": null,
            "object_position": null,
            "order": null,
            "overflow": null,
            "overflow_x": null,
            "overflow_y": null,
            "padding": null,
            "right": null,
            "top": null,
            "visibility": null,
            "width": null
          }
        },
        "61ad822d2b3e41b09aa6c96154cce14b": {
          "model_module": "@jupyter-widgets/base",
          "model_name": "LayoutModel",
          "model_module_version": "1.2.0",
          "state": {
            "_model_module": "@jupyter-widgets/base",
            "_model_module_version": "1.2.0",
            "_model_name": "LayoutModel",
            "_view_count": null,
            "_view_module": "@jupyter-widgets/base",
            "_view_module_version": "1.2.0",
            "_view_name": "LayoutView",
            "align_content": null,
            "align_items": null,
            "align_self": null,
            "border": null,
            "bottom": null,
            "display": null,
            "flex": null,
            "flex_flow": null,
            "grid_area": null,
            "grid_auto_columns": null,
            "grid_auto_flow": null,
            "grid_auto_rows": null,
            "grid_column": null,
            "grid_gap": null,
            "grid_row": null,
            "grid_template_areas": null,
            "grid_template_columns": null,
            "grid_template_rows": null,
            "height": null,
            "justify_content": null,
            "justify_items": null,
            "left": null,
            "margin": null,
            "max_height": null,
            "max_width": null,
            "min_height": null,
            "min_width": null,
            "object_fit": null,
            "object_position": null,
            "order": null,
            "overflow": null,
            "overflow_x": null,
            "overflow_y": null,
            "padding": null,
            "right": null,
            "top": null,
            "visibility": null,
            "width": null
          }
        },
        "a185166b8fac4af789f7cc00807a7be4": {
          "model_module": "@jupyter-widgets/controls",
          "model_name": "DescriptionStyleModel",
          "model_module_version": "1.5.0",
          "state": {
            "_model_module": "@jupyter-widgets/controls",
            "_model_module_version": "1.5.0",
            "_model_name": "DescriptionStyleModel",
            "_view_count": null,
            "_view_module": "@jupyter-widgets/base",
            "_view_module_version": "1.2.0",
            "_view_name": "StyleView",
            "description_width": ""
          }
        },
        "6efcff5eb6b448ada38ca98dd64f5bba": {
          "model_module": "@jupyter-widgets/base",
          "model_name": "LayoutModel",
          "model_module_version": "1.2.0",
          "state": {
            "_model_module": "@jupyter-widgets/base",
            "_model_module_version": "1.2.0",
            "_model_name": "LayoutModel",
            "_view_count": null,
            "_view_module": "@jupyter-widgets/base",
            "_view_module_version": "1.2.0",
            "_view_name": "LayoutView",
            "align_content": null,
            "align_items": null,
            "align_self": null,
            "border": null,
            "bottom": null,
            "display": null,
            "flex": null,
            "flex_flow": null,
            "grid_area": null,
            "grid_auto_columns": null,
            "grid_auto_flow": null,
            "grid_auto_rows": null,
            "grid_column": null,
            "grid_gap": null,
            "grid_row": null,
            "grid_template_areas": null,
            "grid_template_columns": null,
            "grid_template_rows": null,
            "height": null,
            "justify_content": null,
            "justify_items": null,
            "left": null,
            "margin": null,
            "max_height": null,
            "max_width": null,
            "min_height": null,
            "min_width": null,
            "object_fit": null,
            "object_position": null,
            "order": null,
            "overflow": null,
            "overflow_x": null,
            "overflow_y": null,
            "padding": null,
            "right": null,
            "top": null,
            "visibility": null,
            "width": null
          }
        },
        "5a6007b426134df1865448f0c26937bb": {
          "model_module": "@jupyter-widgets/controls",
          "model_name": "ProgressStyleModel",
          "model_module_version": "1.5.0",
          "state": {
            "_model_module": "@jupyter-widgets/controls",
            "_model_module_version": "1.5.0",
            "_model_name": "ProgressStyleModel",
            "_view_count": null,
            "_view_module": "@jupyter-widgets/base",
            "_view_module_version": "1.2.0",
            "_view_name": "StyleView",
            "bar_color": null,
            "description_width": ""
          }
        },
        "682ddc2470c742109b9085d1b3a50a38": {
          "model_module": "@jupyter-widgets/base",
          "model_name": "LayoutModel",
          "model_module_version": "1.2.0",
          "state": {
            "_model_module": "@jupyter-widgets/base",
            "_model_module_version": "1.2.0",
            "_model_name": "LayoutModel",
            "_view_count": null,
            "_view_module": "@jupyter-widgets/base",
            "_view_module_version": "1.2.0",
            "_view_name": "LayoutView",
            "align_content": null,
            "align_items": null,
            "align_self": null,
            "border": null,
            "bottom": null,
            "display": null,
            "flex": null,
            "flex_flow": null,
            "grid_area": null,
            "grid_auto_columns": null,
            "grid_auto_flow": null,
            "grid_auto_rows": null,
            "grid_column": null,
            "grid_gap": null,
            "grid_row": null,
            "grid_template_areas": null,
            "grid_template_columns": null,
            "grid_template_rows": null,
            "height": null,
            "justify_content": null,
            "justify_items": null,
            "left": null,
            "margin": null,
            "max_height": null,
            "max_width": null,
            "min_height": null,
            "min_width": null,
            "object_fit": null,
            "object_position": null,
            "order": null,
            "overflow": null,
            "overflow_x": null,
            "overflow_y": null,
            "padding": null,
            "right": null,
            "top": null,
            "visibility": null,
            "width": null
          }
        },
        "dfe7989d8c0f4e0eb2ef5a8dbdbd0ed6": {
          "model_module": "@jupyter-widgets/controls",
          "model_name": "DescriptionStyleModel",
          "model_module_version": "1.5.0",
          "state": {
            "_model_module": "@jupyter-widgets/controls",
            "_model_module_version": "1.5.0",
            "_model_name": "DescriptionStyleModel",
            "_view_count": null,
            "_view_module": "@jupyter-widgets/base",
            "_view_module_version": "1.2.0",
            "_view_name": "StyleView",
            "description_width": ""
          }
        }
      }
    }
  },
  "cells": [
    {
      "cell_type": "markdown",
      "metadata": {
        "id": "view-in-github",
        "colab_type": "text"
      },
      "source": [
        "<a href=\"https://colab.research.google.com/github/stepan-fukalov/fake-news-ai/blob/master/fake_news_ai.ipynb\" target=\"_parent\"><img src=\"https://colab.research.google.com/assets/colab-badge.svg\" alt=\"Open In Colab\"/></a>"
      ]
    },
    {
      "cell_type": "markdown",
      "source": [
        "# Fake news AI"
      ],
      "metadata": {
        "id": "_C3uq5FqEfFE"
      }
    },
    {
      "cell_type": "markdown",
      "source": [
        "## 1. Downloading and preparing data"
      ],
      "metadata": {
        "id": "5tP38Rx8EWj6"
      }
    },
    {
      "cell_type": "markdown",
      "source": [
        "### 1.1 Downloading test and train datasets"
      ],
      "metadata": {
        "id": "sulgIpGQEY8Q"
      }
    },
    {
      "cell_type": "code",
      "source": [
        "!gdown 1i5siUuasrbtLSXPfi7kP2issY6v9JPbi # Train dataset\n",
        "!gdown 1Kw3JsSOCczllXaxVmStglBa4NGN80lUK # Test dataset\n",
        "!gdown 1DRzpXeGgcBULy3fpujm2ouTgKXqhnBAv # Kaggle submition"
      ],
      "metadata": {
        "id": "QFx5ytNTBknz",
        "colab": {
          "base_uri": "https://localhost:8080/"
        },
        "outputId": "a20b30cd-2576-49e4-8183-178a7da50293"
      },
      "execution_count": null,
      "outputs": [
        {
          "output_type": "stream",
          "name": "stdout",
          "text": [
            "Downloading...\n",
            "From: https://drive.google.com/uc?id=1i5siUuasrbtLSXPfi7kP2issY6v9JPbi\n",
            "To: /content/train.csv\n",
            "100% 98.6M/98.6M [00:00<00:00, 120MB/s]\n",
            "Downloading...\n",
            "From: https://drive.google.com/uc?id=1Kw3JsSOCczllXaxVmStglBa4NGN80lUK\n",
            "To: /content/test.csv\n",
            "100% 25.1M/25.1M [00:00<00:00, 137MB/s] \n",
            "Downloading...\n",
            "From: https://drive.google.com/uc?id=1DRzpXeGgcBULy3fpujm2ouTgKXqhnBAv\n",
            "To: /content/submit.csv\n",
            "100% 41.6k/41.6k [00:00<00:00, 76.5MB/s]\n"
          ]
        }
      ]
    },
    {
      "cell_type": "code",
      "source": [
        "import pandas as pd\n",
        "train_df = pd.read_csv(\"/content/train.csv\")\n",
        "submition_df = pd.read_csv(\"/content/test.csv\")\n",
        "sample_submition = pd.read_csv(\"/content/submit.csv\")"
      ],
      "metadata": {
        "id": "O9e2PvMhtu8l"
      },
      "execution_count": null,
      "outputs": []
    },
    {
      "cell_type": "code",
      "source": [
        "train_df.columns"
      ],
      "metadata": {
        "colab": {
          "base_uri": "https://localhost:8080/"
        },
        "id": "4bEoYGMW0ABs",
        "outputId": "f48c5209-eaeb-4fdd-d340-08acb61afa1a"
      },
      "execution_count": null,
      "outputs": [
        {
          "output_type": "execute_result",
          "data": {
            "text/plain": [
              "Index(['id', 'title', 'author', 'text', 'label'], dtype='object')"
            ]
          },
          "metadata": {},
          "execution_count": 155
        }
      ]
    },
    {
      "cell_type": "code",
      "source": [
        "train_df[\"title\"] = train_df[\"title\"].astype(\"str\")"
      ],
      "metadata": {
        "id": "qumJnnqHvE47"
      },
      "execution_count": null,
      "outputs": []
    },
    {
      "cell_type": "code",
      "source": [
        "train_df.info()"
      ],
      "metadata": {
        "colab": {
          "base_uri": "https://localhost:8080/"
        },
        "id": "GGAbv8CytwMo",
        "outputId": "956fb1c4-5e9e-4eed-f1cf-5974381f4ebd"
      },
      "execution_count": null,
      "outputs": [
        {
          "output_type": "stream",
          "name": "stdout",
          "text": [
            "<class 'pandas.core.frame.DataFrame'>\n",
            "RangeIndex: 20800 entries, 0 to 20799\n",
            "Data columns (total 5 columns):\n",
            " #   Column  Non-Null Count  Dtype \n",
            "---  ------  --------------  ----- \n",
            " 0   id      20800 non-null  int64 \n",
            " 1   title   20800 non-null  object\n",
            " 2   author  18843 non-null  object\n",
            " 3   text    20761 non-null  object\n",
            " 4   label   20800 non-null  int64 \n",
            "dtypes: int64(2), object(3)\n",
            "memory usage: 812.6+ KB\n"
          ]
        }
      ]
    },
    {
      "cell_type": "markdown",
      "source": [
        "## 2. Cleaning data"
      ],
      "metadata": {
        "id": "hhW-KoY7v4Op"
      }
    },
    {
      "cell_type": "markdown",
      "source": [
        "### 2.1 Leaving only titles and labels in dataset\n",
        "\n"
      ],
      "metadata": {
        "id": "szYsUQWRwy2y"
      }
    },
    {
      "cell_type": "code",
      "source": [
        "train_df = train_df[[\"title\", \"label\"]]\n",
        "train_df"
      ],
      "metadata": {
        "id": "spZ2Rk4Twwke",
        "colab": {
          "base_uri": "https://localhost:8080/",
          "height": 424
        },
        "outputId": "eec0603e-dc71-471c-9f2c-dce63bc0d440"
      },
      "execution_count": null,
      "outputs": [
        {
          "output_type": "execute_result",
          "data": {
            "text/plain": [
              "                                                   title  label\n",
              "0      House Dem Aide: We Didn’t Even See Comey’s Let...      1\n",
              "1      FLYNN: Hillary Clinton, Big Woman on Campus - ...      0\n",
              "2                      Why the Truth Might Get You Fired      1\n",
              "3      15 Civilians Killed In Single US Airstrike Hav...      1\n",
              "4      Iranian woman jailed for fictional unpublished...      1\n",
              "...                                                  ...    ...\n",
              "20795  Rapper T.I.: Trump a ’Poster Child For White S...      0\n",
              "20796  N.F.L. Playoffs: Schedule, Matchups and Odds -...      0\n",
              "20797  Macy’s Is Said to Receive Takeover Approach by...      0\n",
              "20798  NATO, Russia To Hold Parallel Exercises In Bal...      1\n",
              "20799                          What Keeps the F-35 Alive      1\n",
              "\n",
              "[20800 rows x 2 columns]"
            ],
            "text/html": [
              "\n",
              "  <div id=\"df-1b5d467a-cf2e-43c7-b8ee-4450f55f9ddc\">\n",
              "    <div class=\"colab-df-container\">\n",
              "      <div>\n",
              "<style scoped>\n",
              "    .dataframe tbody tr th:only-of-type {\n",
              "        vertical-align: middle;\n",
              "    }\n",
              "\n",
              "    .dataframe tbody tr th {\n",
              "        vertical-align: top;\n",
              "    }\n",
              "\n",
              "    .dataframe thead th {\n",
              "        text-align: right;\n",
              "    }\n",
              "</style>\n",
              "<table border=\"1\" class=\"dataframe\">\n",
              "  <thead>\n",
              "    <tr style=\"text-align: right;\">\n",
              "      <th></th>\n",
              "      <th>title</th>\n",
              "      <th>label</th>\n",
              "    </tr>\n",
              "  </thead>\n",
              "  <tbody>\n",
              "    <tr>\n",
              "      <th>0</th>\n",
              "      <td>House Dem Aide: We Didn’t Even See Comey’s Let...</td>\n",
              "      <td>1</td>\n",
              "    </tr>\n",
              "    <tr>\n",
              "      <th>1</th>\n",
              "      <td>FLYNN: Hillary Clinton, Big Woman on Campus - ...</td>\n",
              "      <td>0</td>\n",
              "    </tr>\n",
              "    <tr>\n",
              "      <th>2</th>\n",
              "      <td>Why the Truth Might Get You Fired</td>\n",
              "      <td>1</td>\n",
              "    </tr>\n",
              "    <tr>\n",
              "      <th>3</th>\n",
              "      <td>15 Civilians Killed In Single US Airstrike Hav...</td>\n",
              "      <td>1</td>\n",
              "    </tr>\n",
              "    <tr>\n",
              "      <th>4</th>\n",
              "      <td>Iranian woman jailed for fictional unpublished...</td>\n",
              "      <td>1</td>\n",
              "    </tr>\n",
              "    <tr>\n",
              "      <th>...</th>\n",
              "      <td>...</td>\n",
              "      <td>...</td>\n",
              "    </tr>\n",
              "    <tr>\n",
              "      <th>20795</th>\n",
              "      <td>Rapper T.I.: Trump a ’Poster Child For White S...</td>\n",
              "      <td>0</td>\n",
              "    </tr>\n",
              "    <tr>\n",
              "      <th>20796</th>\n",
              "      <td>N.F.L. Playoffs: Schedule, Matchups and Odds -...</td>\n",
              "      <td>0</td>\n",
              "    </tr>\n",
              "    <tr>\n",
              "      <th>20797</th>\n",
              "      <td>Macy’s Is Said to Receive Takeover Approach by...</td>\n",
              "      <td>0</td>\n",
              "    </tr>\n",
              "    <tr>\n",
              "      <th>20798</th>\n",
              "      <td>NATO, Russia To Hold Parallel Exercises In Bal...</td>\n",
              "      <td>1</td>\n",
              "    </tr>\n",
              "    <tr>\n",
              "      <th>20799</th>\n",
              "      <td>What Keeps the F-35 Alive</td>\n",
              "      <td>1</td>\n",
              "    </tr>\n",
              "  </tbody>\n",
              "</table>\n",
              "<p>20800 rows × 2 columns</p>\n",
              "</div>\n",
              "      <button class=\"colab-df-convert\" onclick=\"convertToInteractive('df-1b5d467a-cf2e-43c7-b8ee-4450f55f9ddc')\"\n",
              "              title=\"Convert this dataframe to an interactive table.\"\n",
              "              style=\"display:none;\">\n",
              "        \n",
              "  <svg xmlns=\"http://www.w3.org/2000/svg\" height=\"24px\"viewBox=\"0 0 24 24\"\n",
              "       width=\"24px\">\n",
              "    <path d=\"M0 0h24v24H0V0z\" fill=\"none\"/>\n",
              "    <path d=\"M18.56 5.44l.94 2.06.94-2.06 2.06-.94-2.06-.94-.94-2.06-.94 2.06-2.06.94zm-11 1L8.5 8.5l.94-2.06 2.06-.94-2.06-.94L8.5 2.5l-.94 2.06-2.06.94zm10 10l.94 2.06.94-2.06 2.06-.94-2.06-.94-.94-2.06-.94 2.06-2.06.94z\"/><path d=\"M17.41 7.96l-1.37-1.37c-.4-.4-.92-.59-1.43-.59-.52 0-1.04.2-1.43.59L10.3 9.45l-7.72 7.72c-.78.78-.78 2.05 0 2.83L4 21.41c.39.39.9.59 1.41.59.51 0 1.02-.2 1.41-.59l7.78-7.78 2.81-2.81c.8-.78.8-2.07 0-2.86zM5.41 20L4 18.59l7.72-7.72 1.47 1.35L5.41 20z\"/>\n",
              "  </svg>\n",
              "      </button>\n",
              "      \n",
              "  <style>\n",
              "    .colab-df-container {\n",
              "      display:flex;\n",
              "      flex-wrap:wrap;\n",
              "      gap: 12px;\n",
              "    }\n",
              "\n",
              "    .colab-df-convert {\n",
              "      background-color: #E8F0FE;\n",
              "      border: none;\n",
              "      border-radius: 50%;\n",
              "      cursor: pointer;\n",
              "      display: none;\n",
              "      fill: #1967D2;\n",
              "      height: 32px;\n",
              "      padding: 0 0 0 0;\n",
              "      width: 32px;\n",
              "    }\n",
              "\n",
              "    .colab-df-convert:hover {\n",
              "      background-color: #E2EBFA;\n",
              "      box-shadow: 0px 1px 2px rgba(60, 64, 67, 0.3), 0px 1px 3px 1px rgba(60, 64, 67, 0.15);\n",
              "      fill: #174EA6;\n",
              "    }\n",
              "\n",
              "    [theme=dark] .colab-df-convert {\n",
              "      background-color: #3B4455;\n",
              "      fill: #D2E3FC;\n",
              "    }\n",
              "\n",
              "    [theme=dark] .colab-df-convert:hover {\n",
              "      background-color: #434B5C;\n",
              "      box-shadow: 0px 1px 3px 1px rgba(0, 0, 0, 0.15);\n",
              "      filter: drop-shadow(0px 1px 2px rgba(0, 0, 0, 0.3));\n",
              "      fill: #FFFFFF;\n",
              "    }\n",
              "  </style>\n",
              "\n",
              "      <script>\n",
              "        const buttonEl =\n",
              "          document.querySelector('#df-1b5d467a-cf2e-43c7-b8ee-4450f55f9ddc button.colab-df-convert');\n",
              "        buttonEl.style.display =\n",
              "          google.colab.kernel.accessAllowed ? 'block' : 'none';\n",
              "\n",
              "        async function convertToInteractive(key) {\n",
              "          const element = document.querySelector('#df-1b5d467a-cf2e-43c7-b8ee-4450f55f9ddc');\n",
              "          const dataTable =\n",
              "            await google.colab.kernel.invokeFunction('convertToInteractive',\n",
              "                                                     [key], {});\n",
              "          if (!dataTable) return;\n",
              "\n",
              "          const docLinkHtml = 'Like what you see? Visit the ' +\n",
              "            '<a target=\"_blank\" href=https://colab.research.google.com/notebooks/data_table.ipynb>data table notebook</a>'\n",
              "            + ' to learn more about interactive tables.';\n",
              "          element.innerHTML = '';\n",
              "          dataTable['output_type'] = 'display_data';\n",
              "          await google.colab.output.renderOutput(dataTable, element);\n",
              "          const docLink = document.createElement('div');\n",
              "          docLink.innerHTML = docLinkHtml;\n",
              "          element.appendChild(docLink);\n",
              "        }\n",
              "      </script>\n",
              "    </div>\n",
              "  </div>\n",
              "  "
            ]
          },
          "metadata": {},
          "execution_count": 158
        }
      ]
    },
    {
      "cell_type": "markdown",
      "source": [
        "### 2.2 Dropping N/A"
      ],
      "metadata": {
        "id": "I305WmRiFcDm"
      }
    },
    {
      "cell_type": "code",
      "source": [
        "train_df.dropna(inplace=True)\n",
        "train_df.reset_index(drop=True, inplace=True)"
      ],
      "metadata": {
        "id": "qQXRAUJVzwDt",
        "colab": {
          "base_uri": "https://localhost:8080/"
        },
        "outputId": "09991086-3472-4a9c-c991-9b51619dcdd2"
      },
      "execution_count": null,
      "outputs": [
        {
          "output_type": "stream",
          "name": "stderr",
          "text": [
            "<ipython-input-159-ac397e1d8ef2>:1: SettingWithCopyWarning: \n",
            "A value is trying to be set on a copy of a slice from a DataFrame\n",
            "\n",
            "See the caveats in the documentation: https://pandas.pydata.org/pandas-docs/stable/user_guide/indexing.html#returning-a-view-versus-a-copy\n",
            "  train_df.dropna(inplace=True)\n"
          ]
        }
      ]
    },
    {
      "cell_type": "markdown",
      "source": [
        "Dropping titles that are not in english"
      ],
      "metadata": {
        "id": "shC1LJcpLF6p"
      }
    },
    {
      "cell_type": "code",
      "source": [
        "# Installing langdetect\n",
        "! pip install langdetect"
      ],
      "metadata": {
        "colab": {
          "base_uri": "https://localhost:8080/"
        },
        "id": "DFE-oQUUFe84",
        "outputId": "203339de-52ca-41d6-f155-a32644c7454a"
      },
      "execution_count": null,
      "outputs": [
        {
          "output_type": "stream",
          "name": "stdout",
          "text": [
            "Looking in indexes: https://pypi.org/simple, https://us-python.pkg.dev/colab-wheels/public/simple/\n",
            "Requirement already satisfied: langdetect in /usr/local/lib/python3.10/dist-packages (1.0.9)\n",
            "Requirement already satisfied: six in /usr/local/lib/python3.10/dist-packages (from langdetect) (1.16.0)\n"
          ]
        }
      ]
    },
    {
      "cell_type": "code",
      "source": [
        "from langdetect import detect\n",
        "from tqdm.auto import tqdm\n",
        "\n",
        "def detect_lang(text):\n",
        "  lang = None\n",
        "  try:\n",
        "    lang = detect(text)\n",
        "  except:\n",
        "    print(f\"Unable to recongnize language on text: {text}\")\n",
        "  return lang\n",
        "\n",
        "titles = train_df[\"title\"]\n",
        "langs = []\n",
        "for text in tqdm(titles):\n",
        "  langs.append(detect_lang(text))"
      ],
      "metadata": {
        "colab": {
          "base_uri": "https://localhost:8080/",
          "height": 66,
          "referenced_widgets": [
            "0d9af1c1053c432eb022f2ba61549ac9",
            "7edc7f83e1ce40319da6bf944cbc7094",
            "a92efeca601c46edb01443c1cd75dc07",
            "d7dc03303c5f4d25a1379c0e02880a64",
            "ff94980df81c4c5687a1cfe4de8c96b1",
            "141f567785844d0fa79e4f51635c816c",
            "70f64ebe413f460e9f13457486120efd",
            "0f1cc1b28dd0428ab3f4a10b4bcc8612",
            "766f1d74959349d1b25bb336ce5ef408",
            "08fb8af54d3942898c219482f905558c",
            "9a56768a7b28471ba4e02958978e5c97"
          ]
        },
        "id": "I1xVZ1W1GjTk",
        "outputId": "bb724ad8-bf00-44b6-bf08-7fca115b1471"
      },
      "execution_count": null,
      "outputs": [
        {
          "output_type": "display_data",
          "data": {
            "text/plain": [
              "  0%|          | 0/20800 [00:00<?, ?it/s]"
            ],
            "application/vnd.jupyter.widget-view+json": {
              "version_major": 2,
              "version_minor": 0,
              "model_id": "0d9af1c1053c432eb022f2ba61549ac9"
            }
          },
          "metadata": {}
        },
        {
          "output_type": "stream",
          "name": "stdout",
          "text": [
            "Unable to recongnize language on text: https://youtu.be/BFpFCy_b2SM\n"
          ]
        }
      ]
    },
    {
      "cell_type": "code",
      "source": [
        "train_df[\"lang\"] = langs\n",
        "train_df = train_df[train_df[\"lang\"]==\"en\"]\n",
        "# Drop language, no longer need\n",
        "train_df = train_df.drop('lang', axis=1)"
      ],
      "metadata": {
        "id": "xPt-W-6YOc0W"
      },
      "execution_count": null,
      "outputs": []
    },
    {
      "cell_type": "markdown",
      "source": [
        "## 3. Data preprocessing using NLTK\n"
      ],
      "metadata": {
        "id": "sAwWGNBKyC5R"
      }
    },
    {
      "cell_type": "markdown",
      "source": [
        "### 3.1 Tokenizing"
      ],
      "metadata": {
        "id": "6HQSv2jh26VY"
      }
    },
    {
      "cell_type": "code",
      "source": [
        "import nltk\n",
        "from nltk.tokenize import word_tokenize\n",
        "nltk.download('punkt')"
      ],
      "metadata": {
        "colab": {
          "base_uri": "https://localhost:8080/"
        },
        "id": "DLTShyjVyLMQ",
        "outputId": "b0adefe8-a43d-4c44-dbcc-cfb39bab18fa"
      },
      "execution_count": null,
      "outputs": [
        {
          "output_type": "stream",
          "name": "stderr",
          "text": [
            "[nltk_data] Downloading package punkt to /root/nltk_data...\n",
            "[nltk_data]   Package punkt is already up-to-date!\n"
          ]
        },
        {
          "output_type": "execute_result",
          "data": {
            "text/plain": [
              "True"
            ]
          },
          "metadata": {},
          "execution_count": 163
        }
      ]
    },
    {
      "cell_type": "code",
      "source": [
        "train_df[\"title\"] = train_df[\"title\"].apply(lambda x: x.lower())\n",
        "train_df[\"title\"] = train_df[\"title\"].apply(word_tokenize)"
      ],
      "metadata": {
        "id": "2UGP2jpPyPN4"
      },
      "execution_count": null,
      "outputs": []
    },
    {
      "cell_type": "code",
      "source": [
        "train_df[\"title\"]"
      ],
      "metadata": {
        "colab": {
          "base_uri": "https://localhost:8080/"
        },
        "id": "J6U0GTLfQxWL",
        "outputId": "93660986-4229-4f52-fe2f-13f4eb96b175"
      },
      "execution_count": null,
      "outputs": [
        {
          "output_type": "execute_result",
          "data": {
            "text/plain": [
              "0        [house, dem, aide, :, we, didn, ’, t, even, se...\n",
              "1        [flynn, :, hillary, clinton, ,, big, woman, on...\n",
              "2                [why, the, truth, might, get, you, fired]\n",
              "3        [15, civilians, killed, in, single, us, airstr...\n",
              "4        [iranian, woman, jailed, for, fictional, unpub...\n",
              "                               ...                        \n",
              "20795    [rapper, t.i, ., :, trump, a, ’, poster, child...\n",
              "20796    [n.f.l, ., playoffs, :, schedule, ,, matchups,...\n",
              "20797    [macy, ’, s, is, said, to, receive, takeover, ...\n",
              "20798    [nato, ,, russia, to, hold, parallel, exercise...\n",
              "20799                      [what, keeps, the, f-35, alive]\n",
              "Name: title, Length: 19274, dtype: object"
            ]
          },
          "metadata": {},
          "execution_count": 165
        }
      ]
    },
    {
      "cell_type": "markdown",
      "source": [
        "### 3.2 Removing stop words"
      ],
      "metadata": {
        "id": "4wlrF6Li28qT"
      }
    },
    {
      "cell_type": "code",
      "source": [
        "import nltk\n",
        "from nltk.corpus import stopwords\n",
        "nltk.download(\"stopwords\")\n",
        "\n",
        "def remove_stop_words(text, stops):\n",
        "  new_text = [word for word in text if word not in stops]\n",
        "  return new_text if new_text else None\n",
        "\n",
        "stops = set(stopwords.words(\"english\"))\n",
        "train_df[\"title\"] = train_df[\"title\"].apply(lambda text: remove_stop_words(text, stops))\n",
        "train_df.dropna(inplace=True)\n",
        "train_df.reset_index(drop=True, inplace=True)"
      ],
      "metadata": {
        "id": "TLEXUt842yZg",
        "colab": {
          "base_uri": "https://localhost:8080/"
        },
        "outputId": "ab4cc77b-f6fb-4c6d-fda2-66b885a11405"
      },
      "execution_count": null,
      "outputs": [
        {
          "output_type": "stream",
          "name": "stderr",
          "text": [
            "[nltk_data] Downloading package stopwords to /root/nltk_data...\n",
            "[nltk_data]   Package stopwords is already up-to-date!\n"
          ]
        }
      ]
    },
    {
      "cell_type": "markdown",
      "source": [
        "### 3.3 Getting rid of punctuation\n"
      ],
      "metadata": {
        "id": "laUGjukI4fXa"
      }
    },
    {
      "cell_type": "code",
      "source": [
        "def remove_punctuation(text):\n",
        "  # Leaving words that contain only alphabetical symbols or alphabetical symbols and numbers.\n",
        "  new_text = []\n",
        "  for word in text:\n",
        "    length = len(word)\n",
        "    only_alpha = len([s for s in word if s.isalpha()])==length\n",
        "    only_digit = len([s for s in word if s.isdigit()])==length\n",
        "    alpha_and_digit = len([s for s in word if (s.isalpha() or s.isdigit())])==length\n",
        "    if only_alpha or (alpha_and_digit and not only_digit):\n",
        "      new_text.append(word)\n",
        "  return new_text if new_text else None\n",
        "\n",
        "train_df[\"title\"] = train_df[\"title\"].apply(remove_punctuation)\n",
        "train_df.dropna(inplace=True)\n",
        "train_df.reset_index(drop=True, inplace=True)\n",
        "train_df[\"title\"]"
      ],
      "metadata": {
        "id": "IWof0E2t4Lu_",
        "colab": {
          "base_uri": "https://localhost:8080/"
        },
        "outputId": "ee0a5f55-34ab-498d-bcbb-e099daf8ecb8"
      },
      "execution_count": null,
      "outputs": [
        {
          "output_type": "execute_result",
          "data": {
            "text/plain": [
              "0        [house, dem, aide, even, see, comey, letter, j...\n",
              "1        [flynn, hillary, clinton, big, woman, campus, ...\n",
              "2                               [truth, might, get, fired]\n",
              "3        [civilians, killed, single, us, airstrike, ide...\n",
              "4        [iranian, woman, jailed, fictional, unpublishe...\n",
              "                               ...                        \n",
              "19262     [rapper, trump, poster, child, white, supremacy]\n",
              "19263    [playoffs, schedule, matchups, odds, new, york...\n",
              "19264    [macy, said, receive, takeover, approach, huds...\n",
              "19265    [nato, russia, hold, parallel, exercises, balk...\n",
              "19266                                       [keeps, alive]\n",
              "Name: title, Length: 19267, dtype: object"
            ]
          },
          "metadata": {},
          "execution_count": 167
        }
      ]
    },
    {
      "cell_type": "markdown",
      "source": [
        "### 3.4 Stemming words"
      ],
      "metadata": {
        "id": "nZooSHLo498K"
      }
    },
    {
      "cell_type": "code",
      "source": [
        "from nltk.stem.porter import PorterStemmer\n",
        "\n",
        "stemmer = PorterStemmer()\n",
        "train_df[\"title\"] = train_df[\"title\"].apply(lambda text: [stemmer.stem(word) for word in text])\n",
        "train_df[\"title\"]"
      ],
      "metadata": {
        "id": "nw299rrhpa-Z",
        "colab": {
          "base_uri": "https://localhost:8080/"
        },
        "outputId": "28daccf9-e2c4-4fab-aa93-630338995091"
      },
      "execution_count": null,
      "outputs": [
        {
          "output_type": "execute_result",
          "data": {
            "text/plain": [
              "0        [hous, dem, aid, even, see, comey, letter, jas...\n",
              "1        [flynn, hillari, clinton, big, woman, campu, b...\n",
              "2                                [truth, might, get, fire]\n",
              "3          [civilian, kill, singl, us, airstrik, identifi]\n",
              "4        [iranian, woman, jail, fiction, unpublish, sto...\n",
              "                               ...                        \n",
              "19262     [rapper, trump, poster, child, white, supremaci]\n",
              "19263    [playoff, schedul, matchup, odd, new, york, time]\n",
              "19264    [maci, said, receiv, takeov, approach, hudson,...\n",
              "19265      [nato, russia, hold, parallel, exercis, balkan]\n",
              "19266                                         [keep, aliv]\n",
              "Name: title, Length: 19267, dtype: object"
            ]
          },
          "metadata": {},
          "execution_count": 168
        }
      ]
    },
    {
      "cell_type": "markdown",
      "source": [
        "## 4. Text Feature Extraction using TF-IDF"
      ],
      "metadata": {
        "id": "fZzl_Oj-sxGa"
      }
    },
    {
      "cell_type": "markdown",
      "source": [
        "### 4.1 Fitting TF-IDF matrix"
      ],
      "metadata": {
        "id": "o8nM19aJY1em"
      }
    },
    {
      "cell_type": "code",
      "source": [
        "titles = train_df[\"title\"]\n",
        "titles"
      ],
      "metadata": {
        "colab": {
          "base_uri": "https://localhost:8080/"
        },
        "id": "nhM6gDxXfaS2",
        "outputId": "66160ffa-4eff-4114-e37c-22b26deb6b42"
      },
      "execution_count": null,
      "outputs": [
        {
          "output_type": "execute_result",
          "data": {
            "text/plain": [
              "0        [hous, dem, aid, even, see, comey, letter, jas...\n",
              "1        [flynn, hillari, clinton, big, woman, campu, b...\n",
              "2                                [truth, might, get, fire]\n",
              "3          [civilian, kill, singl, us, airstrik, identifi]\n",
              "4        [iranian, woman, jail, fiction, unpublish, sto...\n",
              "                               ...                        \n",
              "19262     [rapper, trump, poster, child, white, supremaci]\n",
              "19263    [playoff, schedul, matchup, odd, new, york, time]\n",
              "19264    [maci, said, receiv, takeov, approach, hudson,...\n",
              "19265      [nato, russia, hold, parallel, exercis, balkan]\n",
              "19266                                         [keep, aliv]\n",
              "Name: title, Length: 19267, dtype: object"
            ]
          },
          "metadata": {},
          "execution_count": 169
        }
      ]
    },
    {
      "cell_type": "code",
      "source": [
        "# Creating TF-IDF matrix\n",
        "from sklearn.feature_extraction.text import TfidfVectorizer\n",
        "\n",
        "def custom_tokenizer(text):\n",
        "  return text\n",
        "\n",
        "tfidf = TfidfVectorizer(tokenizer=custom_tokenizer,\n",
        "                        preprocessor=custom_tokenizer,\n",
        "                        token_pattern=None)\n",
        "features = tfidf.fit_transform(titles).toarray()\n",
        "features.shape"
      ],
      "metadata": {
        "colab": {
          "base_uri": "https://localhost:8080/"
        },
        "id": "1GF_X9XC32gz",
        "outputId": "d4ac3cee-6742-4085-f8d5-9244e61bc3a0"
      },
      "execution_count": null,
      "outputs": [
        {
          "output_type": "execute_result",
          "data": {
            "text/plain": [
              "(19267, 13290)"
            ]
          },
          "metadata": {},
          "execution_count": 170
        }
      ]
    },
    {
      "cell_type": "markdown",
      "source": [
        "### 4.2 Feature selection"
      ],
      "metadata": {
        "id": "gJiNSQRyY6RX"
      }
    },
    {
      "cell_type": "code",
      "source": [
        "import numpy as np\n",
        "\n",
        "feature_names = tfidf.get_feature_names_out()\n",
        "print(f\"Feature shape: {features.shape}\")\n",
        "print(f\"Feature names: {feature_names}\")\n",
        "\n",
        "feature_results = []\n",
        "\n",
        "for X in tqdm(train_df.groupby(\"label\")):\n",
        "  title_id = list(X[1][\"title\"].index)\n",
        "  label = X[1][\"label\"].iloc[0]\n",
        "  result = [x[title_id].mean() for x in features.T]\n",
        "  indices = np.argsort(result)[::-1]\n",
        "  result_names = feature_names[indices]\n",
        "  feature_results.append(result_names)\n",
        "\n",
        "feature_results = np.array(feature_results)\n",
        "\n",
        "print(f\"Feature results shape: {feature_results.shape}\")"
      ],
      "metadata": {
        "id": "dvK5_6JQEAOh",
        "colab": {
          "base_uri": "https://localhost:8080/",
          "height": 101,
          "referenced_widgets": [
            "18a24d33c244483b862b4939e44d948a",
            "8fdbe5b5925c49ab9e4a32f690a535ba",
            "3c29b4f9032b431f97d1dc3c49886e51",
            "3578da3c5136410f9ee99ea1018c0ad7",
            "9c3681ab285648619837be754e903277",
            "316ca82c3e144e1e876bc55d3d24dbe7",
            "9b1cfbe3f4da43ada1e5886e47a85cfb",
            "14342cf8b6f6460e90c8707831cdb91f",
            "6d064c3403a04b8ea5c2619309f3bc16",
            "3efe1f93a48149ea8f213d5bd50957a8",
            "0b60346c37494c3f8a54555c77cbd069"
          ]
        },
        "outputId": "394fd30e-77f9-4026-9c87-f655af47f50e"
      },
      "execution_count": null,
      "outputs": [
        {
          "output_type": "stream",
          "name": "stdout",
          "text": [
            "Feature shape: (19267, 13290)\n",
            "Feature names: ['09l' '100' '1000' ... 'ریزی' 'ضمیر' 'ناخوداگاه']\n"
          ]
        },
        {
          "output_type": "display_data",
          "data": {
            "text/plain": [
              "  0%|          | 0/2 [00:00<?, ?it/s]"
            ],
            "application/vnd.jupyter.widget-view+json": {
              "version_major": 2,
              "version_minor": 0,
              "model_id": "18a24d33c244483b862b4939e44d948a"
            }
          },
          "metadata": {}
        },
        {
          "output_type": "stream",
          "name": "stdout",
          "text": [
            "Feature results shape: (2, 13290)\n"
          ]
        }
      ]
    },
    {
      "cell_type": "code",
      "source": [
        "# Top words in True News Titles\n",
        "feature_results[0][:100]"
      ],
      "metadata": {
        "colab": {
          "base_uri": "https://localhost:8080/"
        },
        "id": "BKxhr8R0H9W3",
        "outputId": "7bbf1d0e-12ab-4705-a7db-6f2b75d1860e"
      },
      "execution_count": null,
      "outputs": [
        {
          "output_type": "execute_result",
          "data": {
            "text/plain": [
              "array(['new', 'york', 'time', 'breitbart', 'trump', 'donald', 'say',\n",
              "       'brief', 'obama', 'attack', 'clinton', 'state', 'presid', 'even',\n",
              "       'hous', 'report', 'news', 'plan', 'kill', 'democrat', 'white',\n",
              "       'call', 'hillari', 'bill', 'polic', 'get', 'die', 'russia', 'year',\n",
              "       'immigr', 'first', 'day', 'show', 'court', 'media', 'may',\n",
              "       'american', 'republican', 'china', 'back', 'border', 'syria',\n",
              "       'nation', 'health', 'women', 'take', 'california', 'elect',\n",
              "       'offic', 'man', 'fight', 'one', 'leader', 'protest', 'case',\n",
              "       'vote', 'fire', 'ban', 'north', 'citi', 'fake', 'obamacar',\n",
              "       'campaign', 'make', 'deal', 'polit', 'senat', 'order', 'law',\n",
              "       'rule', 'shoot', 'watch', 'terror', 'race', 'wall', 'million',\n",
              "       'face', 'claim', 'america', 'migrant', 'find', 'offici', 'leav',\n",
              "       'texa', 'islam', 'go', 'support', 'arrest', 'chang', 'want',\n",
              "       'home', 'illeg', 'russian', 'big', 'keep', 'end', 'right', 'turn',\n",
              "       'use', 'job'], dtype=object)"
            ]
          },
          "metadata": {},
          "execution_count": 172
        }
      ]
    },
    {
      "cell_type": "code",
      "source": [
        "# Top words in Fake News Titles\n",
        "feature_results[1][:100]"
      ],
      "metadata": {
        "colab": {
          "base_uri": "https://localhost:8080/"
        },
        "id": "JiRZJ4Y3Jm_5",
        "outputId": "e4849b16-3659-4f1d-a384-831d98465eb2"
      },
      "execution_count": null,
      "outputs": [
        {
          "output_type": "execute_result",
          "data": {
            "text/plain": [
              "array(['hillari', 'trump', 'clinton', 'elect', 'us', 'war', 'fbi',\n",
              "       'video', 'russia', 'email', 'america', 'vote', 'world', 'news',\n",
              "       'comment', 'obama', 'american', 'donald', 'day', 'break',\n",
              "       'wikileak', 'presid', 'say', 'state', 'campaign', 'win', 'support',\n",
              "       'putin', 'new', 'investig', 'media', 'black', 'russian', 'report',\n",
              "       'get', 'peopl', 'syria', 'call', 'protest', 'voter', 'make',\n",
              "       'year', 'go', 'reveal', 'polic', 'expos', 'watch', 'kill', 'like',\n",
              "       'use', 'one', 'isi', 'white', 'right', 'govern', 'rig', 'could',\n",
              "       'take', 'polit', 'come', 'happen', 'life', 'attack', 'poll',\n",
              "       'want', 'stand', 'man', 'million', 'comey', 'sourc', 'show',\n",
              "       'democrat', 'nation', 'thing', 'warn', 'know', 'first', 'muslim',\n",
              "       'plan', 'real', 'way', 'end', 'victori', 'power', 'rock', 'leak',\n",
              "       'top', 'inform', 'forc', 'mosul', 'novemb', 'live', 'gold',\n",
              "       'onion', 'need', 'reason', 'hous', 'look', 'shock', 'stop'],\n",
              "      dtype=object)"
            ]
          },
          "metadata": {},
          "execution_count": 173
        }
      ]
    },
    {
      "cell_type": "markdown",
      "source": [
        "## 5. Models for classification"
      ],
      "metadata": {
        "id": "br5BRc8QK0XH"
      }
    },
    {
      "cell_type": "markdown",
      "source": [
        "### 5.1 Naive Bayes Classifier\n",
        "\n",
        "The one most suitable for word counts is the multinomial variant:"
      ],
      "metadata": {
        "id": "2Ff3Av50Tkaz"
      }
    },
    {
      "cell_type": "code",
      "source": [
        "from sklearn.model_selection import train_test_split\n",
        "from sklearn.feature_extraction.text import CountVectorizer, TfidfTransformer\n",
        "from sklearn.naive_bayes import MultinomialNB\n",
        "\n",
        "X = train_df[\"title\"].values\n",
        "y = train_df[\"label\"].values\n",
        "\n",
        "X_train, X_test, y_train, y_test = train_test_split(X,\n",
        "                                                    y,\n",
        "                                                    test_size=0.2,\n",
        "                                                    random_state=42)"
      ],
      "metadata": {
        "id": "r3-TIBtEUddF"
      },
      "execution_count": null,
      "outputs": []
    },
    {
      "cell_type": "code",
      "source": [
        "count_vect = CountVectorizer(tokenizer=custom_tokenizer,\n",
        "                             preprocessor=custom_tokenizer,\n",
        "                             token_pattern=None)\n",
        "X_train_counts = count_vect.fit_transform(X_train)\n",
        "\n",
        "tfidf_transformer = TfidfTransformer()\n",
        "X_train_tfidf = tfidf_transformer.fit_transform(X_train_counts)\n",
        "\n",
        "clf = MultinomialNB().fit(X_train_tfidf, y_train)\n",
        "sample = [[\"cat\", \"fight\", \"dog\"]]\n",
        "sample_counts = count_vect.transform(sample)\n",
        "clf.predict(sample_counts)"
      ],
      "metadata": {
        "id": "CT0lmoeaXuu8",
        "colab": {
          "base_uri": "https://localhost:8080/"
        },
        "outputId": "5f735f53-21db-4540-bb7d-563047ea25c9"
      },
      "execution_count": null,
      "outputs": [
        {
          "output_type": "execute_result",
          "data": {
            "text/plain": [
              "array([1])"
            ]
          },
          "metadata": {},
          "execution_count": 175
        }
      ]
    },
    {
      "cell_type": "markdown",
      "source": [
        "### 5.2 Model Selection\n",
        "We will benchmark the following four models:\n",
        "1. Logistic Regression\n",
        "2. (Multinomial) Naive Bayes\n",
        "3. Linear Support Vector Machine\n",
        "4. Random Forest"
      ],
      "metadata": {
        "id": "ni0D3rYFH711"
      }
    },
    {
      "cell_type": "code",
      "source": [
        "from sklearn.linear_model import LogisticRegression\n",
        "from sklearn.ensemble import RandomForestClassifier\n",
        "from sklearn.svm import LinearSVC\n",
        "from sklearn.model_selection import cross_val_score\n",
        "\n",
        "labels = train_df[\"label\"]\n",
        "\n",
        "models = [\n",
        "    LogisticRegression(),\n",
        "    MultinomialNB(),\n",
        "    LinearSVC(),\n",
        "    RandomForestClassifier(n_estimators=200,\n",
        "                           max_depth=3)\n",
        "]\n",
        "\n",
        "entries = []\n",
        "for model in tqdm(models):\n",
        "  model_name = model.__class__.__name__\n",
        "  accuracies = cross_val_score(model, features, labels, scoring='accuracy')\n",
        "  for fold_idx, accuracy in enumerate(accuracies):\n",
        "    entries.append((model_name, fold_idx, accuracy))\n",
        "\n",
        "cv_df = pd.DataFrame(entries, columns=['model_name', 'fold_idx', 'accuracy'])"
      ],
      "metadata": {
        "id": "t5NKFF7n2Xox",
        "colab": {
          "base_uri": "https://localhost:8080/",
          "height": 49,
          "referenced_widgets": [
            "48ce9213029b4724a671b9c1db5ca6e6",
            "24beb3421c0046ca9d4477fb5232793d",
            "f2a47f5053c342d38869e5f54b5e3ac3",
            "6658b6ab648a40b7b479c537251d3e80",
            "ea41eb307a424478b24cfead39aaa2c5",
            "61ad822d2b3e41b09aa6c96154cce14b",
            "a185166b8fac4af789f7cc00807a7be4",
            "6efcff5eb6b448ada38ca98dd64f5bba",
            "5a6007b426134df1865448f0c26937bb",
            "682ddc2470c742109b9085d1b3a50a38",
            "dfe7989d8c0f4e0eb2ef5a8dbdbd0ed6"
          ]
        },
        "outputId": "35243376-668b-4488-ce5a-b59ae5016edd"
      },
      "execution_count": null,
      "outputs": [
        {
          "output_type": "display_data",
          "data": {
            "text/plain": [
              "  0%|          | 0/4 [00:00<?, ?it/s]"
            ],
            "application/vnd.jupyter.widget-view+json": {
              "version_major": 2,
              "version_minor": 0,
              "model_id": "48ce9213029b4724a671b9c1db5ca6e6"
            }
          },
          "metadata": {}
        }
      ]
    },
    {
      "cell_type": "code",
      "source": [
        "cv_df.groupby('model_name').accuracy.mean()"
      ],
      "metadata": {
        "colab": {
          "base_uri": "https://localhost:8080/"
        },
        "id": "-_WqIKjVJyZ4",
        "outputId": "677f4116-e59f-409a-feb2-3a0df957687b"
      },
      "execution_count": null,
      "outputs": [
        {
          "output_type": "execute_result",
          "data": {
            "text/plain": [
              "model_name\n",
              "LinearSVC                 0.934136\n",
              "LogisticRegression        0.921420\n",
              "MultinomialNB             0.874085\n",
              "RandomForestClassifier    0.599574\n",
              "Name: accuracy, dtype: float64"
            ]
          },
          "metadata": {},
          "execution_count": 177
        }
      ]
    },
    {
      "cell_type": "code",
      "source": [
        "import matplotlib.pyplot as plt\n",
        "import seaborn as sns\n",
        "sns.boxplot(x='model_name', y='accuracy', data=cv_df)\n",
        "sns.stripplot(x='model_name', y='accuracy', data=cv_df,\n",
        "              size=8, jitter=True, edgecolor=\"gray\", linewidth=2)\n",
        "plt.show()"
      ],
      "metadata": {
        "colab": {
          "base_uri": "https://localhost:8080/",
          "height": 451
        },
        "id": "HfKlNssmMGr4",
        "outputId": "30616dd0-81ce-4f2a-8a37-e9045900ba6a"
      },
      "execution_count": null,
      "outputs": [
        {
          "output_type": "display_data",
          "data": {
            "text/plain": [
              "<Figure size 640x480 with 1 Axes>"
            ],
            "image/png": "[encoded data removed]"
          },
          "metadata": {}
        }
      ]
    },
    {
      "cell_type": "markdown",
      "source": [
        "LinearSVC and Logistic Regression perform better than the other two classifiers, with LinearSVC having a slight advantage with a median accuracy of around 93%."
      ],
      "metadata": {
        "id": "Si23fR3l4Fqz"
      }
    },
    {
      "cell_type": "markdown",
      "source": [
        "## 6. Let's make predictions and prepare for kaggle submition"
      ],
      "metadata": {
        "id": "QRDX3fnJ8iPV"
      }
    },
    {
      "cell_type": "markdown",
      "source": [
        "### 6.1 Data preprocessing "
      ],
      "metadata": {
        "id": "t-3yLQj4Cpis"
      }
    },
    {
      "cell_type": "code",
      "source": [
        "# Tokenizing\n",
        "submition_df[\"title\"] = submition_df[\"title\"].astype(str)\n",
        "submition_df[\"title\"] = submition_df[\"title\"].apply(lambda x: x.lower())\n",
        "submition_df[\"title\"] = submition_df[\"title\"].apply(word_tokenize)"
      ],
      "metadata": {
        "id": "5_wld1I9DX1k"
      },
      "execution_count": null,
      "outputs": []
    },
    {
      "cell_type": "code",
      "source": [
        "# Stop words\n",
        "submition_df[\"title\"] = submition_df[\"title\"].apply(lambda text: remove_stop_words(text, stops))\n",
        "submition_df.dropna(inplace=True)\n",
        "submition_df.reset_index(drop=True, inplace=True)"
      ],
      "metadata": {
        "id": "nEpVHBNtDX1l"
      },
      "execution_count": null,
      "outputs": []
    },
    {
      "cell_type": "code",
      "source": [
        "# Punctuation\n",
        "submition_df[\"title\"] = submition_df[\"title\"].apply(remove_punctuation)\n",
        "submition_df.dropna(inplace=True)\n",
        "submition_df.reset_index(drop=True, inplace=True)"
      ],
      "metadata": {
        "id": "wV_qOmS_DX1l"
      },
      "execution_count": null,
      "outputs": []
    },
    {
      "cell_type": "code",
      "source": [
        "# Stemming\n",
        "train_df[\"title\"] = train_df[\"title\"].apply(lambda text: [stemmer.stem(word) for word in text])\n",
        "train_df[\"title\"]"
      ],
      "metadata": {
        "colab": {
          "base_uri": "https://localhost:8080/"
        },
        "outputId": "d5018769-40d9-4882-9315-977e1f057401",
        "id": "cshq0hNSDX1m"
      },
      "execution_count": null,
      "outputs": [
        {
          "output_type": "execute_result",
          "data": {
            "text/plain": [
              "0        [hou, dem, aid, even, see, comey, letter, jaso...\n",
              "1        [flynn, hillari, clinton, big, woman, campu, b...\n",
              "2                                [truth, might, get, fire]\n",
              "3          [civilian, kill, singl, us, airstrik, identifi]\n",
              "4        [iranian, woman, jail, fiction, unpublish, sto...\n",
              "                               ...                        \n",
              "19262     [rapper, trump, poster, child, white, supremaci]\n",
              "19263    [playoff, schedul, matchup, odd, new, york, time]\n",
              "19264    [maci, said, receiv, takeov, approach, hudson,...\n",
              "19265       [nato, russia, hold, parallel, exerci, balkan]\n",
              "19266                                         [keep, aliv]\n",
              "Name: title, Length: 19267, dtype: object"
            ]
          },
          "metadata": {},
          "execution_count": 182
        }
      ]
    },
    {
      "cell_type": "markdown",
      "source": [
        "### 6.2 Fitting the model\n",
        "Let's choose LinearSVC model for predicting."
      ],
      "metadata": {
        "id": "TDza3Xdy8uX8"
      }
    },
    {
      "cell_type": "code",
      "source": [
        "from sklearn.model_selection import train_test_split\n",
        "from sklearn.feature_extraction.text import CountVectorizer, TfidfTransformer\n",
        "from sklearn.svm import LinearSVC\n",
        "\n",
        "X = train_df[\"title\"].values\n",
        "y = train_df[\"label\"].values\n",
        "\n",
        "# TF-IDF\n",
        "count_vect = CountVectorizer(tokenizer=custom_tokenizer,\n",
        "                             preprocessor=custom_tokenizer,\n",
        "                             token_pattern=None)\n",
        "X_counts = count_vect.fit_transform(X)\n",
        "\n",
        "tfidf_transformer = TfidfTransformer()\n",
        "X_tfidf = tfidf_transformer.fit_transform(X_counts)\n",
        "\n",
        "# Fitting the model and making predictions\n",
        "clf = LinearSVC(random_state=42).fit(X_tfidf, y)\n",
        "X_sub = submition_df[\"title\"]\n",
        "id_sub = submition_df[\"id\"]\n",
        "\n",
        "X_sub_counts = count_vect.transform(X_sub)\n",
        "X_sub_tfidf = tfidf_transformer.transform(X_sub_counts)\n",
        "y_sub_preds = clf.predict(X_sub_tfidf)"
      ],
      "metadata": {
        "id": "klyPhWWg9Jc9"
      },
      "execution_count": null,
      "outputs": []
    },
    {
      "cell_type": "code",
      "source": [
        "my_submition = sample_submition.copy()\n",
        "my_submition[\"label\"] = np.ones(len(my_submition), dtype=\"int64\")\n",
        "my_submition.loc[my_submition[\"id\"].isin(id_sub), \"label\"] = y_sub_preds\n",
        "my_submition"
      ],
      "metadata": {
        "colab": {
          "base_uri": "https://localhost:8080/",
          "height": 424
        },
        "id": "bOCZuO7JFVZl",
        "outputId": "cd1e374c-28f0-4801-dd19-1d5edb9e7b66"
      },
      "execution_count": null,
      "outputs": [
        {
          "output_type": "execute_result",
          "data": {
            "text/plain": [
              "         id  label\n",
              "0     20800      0\n",
              "1     20801      1\n",
              "2     20802      1\n",
              "3     20803      0\n",
              "4     20804      1\n",
              "...     ...    ...\n",
              "5195  25995      0\n",
              "5196  25996      0\n",
              "5197  25997      0\n",
              "5198  25998      1\n",
              "5199  25999      0\n",
              "\n",
              "[5200 rows x 2 columns]"
            ],
            "text/html": [
              "\n",
              "  <div id=\"df-65e2a9ae-d936-45f7-b9f2-96e4afa45cd5\">\n",
              "    <div class=\"colab-df-container\">\n",
              "      <div>\n",
              "<style scoped>\n",
              "    .dataframe tbody tr th:only-of-type {\n",
              "        vertical-align: middle;\n",
              "    }\n",
              "\n",
              "    .dataframe tbody tr th {\n",
              "        vertical-align: top;\n",
              "    }\n",
              "\n",
              "    .dataframe thead th {\n",
              "        text-align: right;\n",
              "    }\n",
              "</style>\n",
              "<table border=\"1\" class=\"dataframe\">\n",
              "  <thead>\n",
              "    <tr style=\"text-align: right;\">\n",
              "      <th></th>\n",
              "      <th>id</th>\n",
              "      <th>label</th>\n",
              "    </tr>\n",
              "  </thead>\n",
              "  <tbody>\n",
              "    <tr>\n",
              "      <th>0</th>\n",
              "      <td>20800</td>\n",
              "      <td>0</td>\n",
              "    </tr>\n",
              "    <tr>\n",
              "      <th>1</th>\n",
              "      <td>20801</td>\n",
              "      <td>1</td>\n",
              "    </tr>\n",
              "    <tr>\n",
              "      <th>2</th>\n",
              "      <td>20802</td>\n",
              "      <td>1</td>\n",
              "    </tr>\n",
              "    <tr>\n",
              "      <th>3</th>\n",
              "      <td>20803</td>\n",
              "      <td>0</td>\n",
              "    </tr>\n",
              "    <tr>\n",
              "      <th>4</th>\n",
              "      <td>20804</td>\n",
              "      <td>1</td>\n",
              "    </tr>\n",
              "    <tr>\n",
              "      <th>...</th>\n",
              "      <td>...</td>\n",
              "      <td>...</td>\n",
              "    </tr>\n",
              "    <tr>\n",
              "      <th>5195</th>\n",
              "      <td>25995</td>\n",
              "      <td>0</td>\n",
              "    </tr>\n",
              "    <tr>\n",
              "      <th>5196</th>\n",
              "      <td>25996</td>\n",
              "      <td>0</td>\n",
              "    </tr>\n",
              "    <tr>\n",
              "      <th>5197</th>\n",
              "      <td>25997</td>\n",
              "      <td>0</td>\n",
              "    </tr>\n",
              "    <tr>\n",
              "      <th>5198</th>\n",
              "      <td>25998</td>\n",
              "      <td>1</td>\n",
              "    </tr>\n",
              "    <tr>\n",
              "      <th>5199</th>\n",
              "      <td>25999</td>\n",
              "      <td>0</td>\n",
              "    </tr>\n",
              "  </tbody>\n",
              "</table>\n",
              "<p>5200 rows × 2 columns</p>\n",
              "</div>\n",
              "      <button class=\"colab-df-convert\" onclick=\"convertToInteractive('df-65e2a9ae-d936-45f7-b9f2-96e4afa45cd5')\"\n",
              "              title=\"Convert this dataframe to an interactive table.\"\n",
              "              style=\"display:none;\">\n",
              "        \n",
              "  <svg xmlns=\"http://www.w3.org/2000/svg\" height=\"24px\"viewBox=\"0 0 24 24\"\n",
              "       width=\"24px\">\n",
              "    <path d=\"M0 0h24v24H0V0z\" fill=\"none\"/>\n",
              "    <path d=\"M18.56 5.44l.94 2.06.94-2.06 2.06-.94-2.06-.94-.94-2.06-.94 2.06-2.06.94zm-11 1L8.5 8.5l.94-2.06 2.06-.94-2.06-.94L8.5 2.5l-.94 2.06-2.06.94zm10 10l.94 2.06.94-2.06 2.06-.94-2.06-.94-.94-2.06-.94 2.06-2.06.94z\"/><path d=\"M17.41 7.96l-1.37-1.37c-.4-.4-.92-.59-1.43-.59-.52 0-1.04.2-1.43.59L10.3 9.45l-7.72 7.72c-.78.78-.78 2.05 0 2.83L4 21.41c.39.39.9.59 1.41.59.51 0 1.02-.2 1.41-.59l7.78-7.78 2.81-2.81c.8-.78.8-2.07 0-2.86zM5.41 20L4 18.59l7.72-7.72 1.47 1.35L5.41 20z\"/>\n",
              "  </svg>\n",
              "      </button>\n",
              "      \n",
              "  <style>\n",
              "    .colab-df-container {\n",
              "      display:flex;\n",
              "      flex-wrap:wrap;\n",
              "      gap: 12px;\n",
              "    }\n",
              "\n",
              "    .colab-df-convert {\n",
              "      background-color: #E8F0FE;\n",
              "      border: none;\n",
              "      border-radius: 50%;\n",
              "      cursor: pointer;\n",
              "      display: none;\n",
              "      fill: #1967D2;\n",
              "      height: 32px;\n",
              "      padding: 0 0 0 0;\n",
              "      width: 32px;\n",
              "    }\n",
              "\n",
              "    .colab-df-convert:hover {\n",
              "      background-color: #E2EBFA;\n",
              "      box-shadow: 0px 1px 2px rgba(60, 64, 67, 0.3), 0px 1px 3px 1px rgba(60, 64, 67, 0.15);\n",
              "      fill: #174EA6;\n",
              "    }\n",
              "\n",
              "    [theme=dark] .colab-df-convert {\n",
              "      background-color: #3B4455;\n",
              "      fill: #D2E3FC;\n",
              "    }\n",
              "\n",
              "    [theme=dark] .colab-df-convert:hover {\n",
              "      background-color: #434B5C;\n",
              "      box-shadow: 0px 1px 3px 1px rgba(0, 0, 0, 0.15);\n",
              "      filter: drop-shadow(0px 1px 2px rgba(0, 0, 0, 0.3));\n",
              "      fill: #FFFFFF;\n",
              "    }\n",
              "  </style>\n",
              "\n",
              "      <script>\n",
              "        const buttonEl =\n",
              "          document.querySelector('#df-65e2a9ae-d936-45f7-b9f2-96e4afa45cd5 button.colab-df-convert');\n",
              "        buttonEl.style.display =\n",
              "          google.colab.kernel.accessAllowed ? 'block' : 'none';\n",
              "\n",
              "        async function convertToInteractive(key) {\n",
              "          const element = document.querySelector('#df-65e2a9ae-d936-45f7-b9f2-96e4afa45cd5');\n",
              "          const dataTable =\n",
              "            await google.colab.kernel.invokeFunction('convertToInteractive',\n",
              "                                                     [key], {});\n",
              "          if (!dataTable) return;\n",
              "\n",
              "          const docLinkHtml = 'Like what you see? Visit the ' +\n",
              "            '<a target=\"_blank\" href=https://colab.research.google.com/notebooks/data_table.ipynb>data table notebook</a>'\n",
              "            + ' to learn more about interactive tables.';\n",
              "          element.innerHTML = '';\n",
              "          dataTable['output_type'] = 'display_data';\n",
              "          await google.colab.output.renderOutput(dataTable, element);\n",
              "          const docLink = document.createElement('div');\n",
              "          docLink.innerHTML = docLinkHtml;\n",
              "          element.appendChild(docLink);\n",
              "        }\n",
              "      </script>\n",
              "    </div>\n",
              "  </div>\n",
              "  "
            ]
          },
          "metadata": {},
          "execution_count": 185
        }
      ]
    },
    {
      "cell_type": "code",
      "source": [
        "from pathlib import Path\n",
        "filepath = Path(\"output/my_submition.csv\")\n",
        "filepath.parent.mkdir(parents=True, exist_ok=True)\n",
        "my_submition.to_csv(filepath, index=False)\n",
        "# Final score: 0.92142"
      ],
      "metadata": {
        "id": "iAvqFTSPKIJs"
      },
      "execution_count": null,
      "outputs": []
    }
  ]
}